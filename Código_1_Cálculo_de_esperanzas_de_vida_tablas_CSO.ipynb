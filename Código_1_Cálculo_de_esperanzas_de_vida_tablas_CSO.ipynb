{
  "nbformat": 4,
  "nbformat_minor": 0,
  "metadata": {
    "colab": {
      "provenance": []
    },
    "kernelspec": {
      "name": "python3",
      "display_name": "Python 3"
    },
    "language_info": {
      "name": "python"
    }
  },
  "cells": [
    {
      "cell_type": "code",
      "execution_count": 1,
      "metadata": {
        "id": "tCyIwVZgbB5u"
      },
      "outputs": [],
      "source": [
        "import pandas as pd\n",
        "import numpy as np\n",
        "\n",
        "# Función para calcular esperanza de vida a partir de una tabla de mortalidad\n",
        "def calcular_esperanza_vida(df, columna_qx):\n",
        "    edades = df['edad'].values\n",
        "    qx = df[columna_qx].values\n",
        "    n = len(edades)\n",
        "\n",
        "    # Asegurar que qx esté en proporción\n",
        "    qx = np.where(qx > 1, qx / 100, qx)\n",
        "    lx = np.zeros(n)\n",
        "    dx = np.zeros(n)\n",
        "    Lx = np.zeros(n)\n",
        "    Tx = np.zeros(n)\n",
        "    ex = np.zeros(n)\n",
        "\n",
        "    lx[0] = 100000  # base de la tabla\n",
        "\n",
        "    for i in range(n - 1):\n",
        "        dx[i] = lx[i] * qx[i]\n",
        "        lx[i + 1] = lx[i] - dx[i]\n",
        "        Lx[i] = lx[i] - dx[i] / 2\n",
        "        Lx[-1] = lx[-1] / 2\n",
        "        Tx[-1] = Lx[-1]\n",
        "\n",
        "    for i in reversed(range(n - 1)):\n",
        "        Tx[i] = Lx[i] + Tx[i + 1]\n",
        "        ex = Tx / lx\n",
        "    return ex\n",
        "\n",
        "# Edades objetivo\n",
        "edades_objetivo = [15, 25, 35, 45, 55, 65]\n",
        "\n",
        "# Leer archivo\n",
        "archivo = \"Tablas CSO.xlsx\"\n",
        "hojas = pd.read_excel(archivo, sheet_name=[\"hombres\", \"mujeres\"])\n",
        "\n",
        "# Procesar hoja\n",
        "def procesar_hoja(df):\n",
        "    df = df.copy()\n",
        "    df_resultado = pd.DataFrame()\n",
        "    df_resultado[\"edad\"] = df[\"edad\"]\n",
        "    for anio in [1980, 2001, 2017]:\n",
        "        df_resultado[f\"e(x)_CSO{anio}\"] = calcular_esperanza_vida(df, anio)\n",
        "    return df_resultado[df_resultado[\"edad\"].isin(edades_objetivo)]\n",
        "\n",
        "# Calcular esperanzas\n",
        "esperanza_hombres = procesar_hoja(hojas[\"hombres\"])\n",
        "esperanza_mujeres = procesar_hoja(hojas[\"mujeres\"])\n"
      ]
    }
  ]
}