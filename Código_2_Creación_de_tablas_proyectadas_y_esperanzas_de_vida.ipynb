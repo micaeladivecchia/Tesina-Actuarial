{
  "nbformat": 4,
  "nbformat_minor": 0,
  "metadata": {
    "colab": {
      "provenance": []
    },
    "kernelspec": {
      "name": "python3",
      "display_name": "Python 3"
    },
    "language_info": {
      "name": "python"
    }
  },
  "cells": [
    {
      "cell_type": "code",
      "execution_count": null,
      "metadata": {
        "id": "6nf9lFr-eOaz"
      },
      "outputs": [],
      "source": [
        "import pandas as pd\n",
        "import numpy as np\n",
        "from sklearn.linear_model import LinearRegression\n",
        "\n",
        "def lee_carter_projection_short(df_qx, projection_years):\n",
        "    log_mx = np.log(df_qx.replace(0, np.nan)).dropna()\n",
        "    ages = log_mx.index\n",
        "    years = log_mx.columns.astype(int)\n",
        "    ax = log_mx.mean(axis=1)\n",
        "    centered = log_mx.sub(ax, axis=0)\n",
        "    U, s, Vt = np.linalg.svd(centered, full_matrices=False)\n",
        "    bx = U[:, 0]\n",
        "    kt = s[0] * Vt[0, :]\n",
        "\n",
        "    model = LinearRegression().fit(years.values.reshape(-1, 1), kt)\n",
        "    future_years = list(range(years[-1] + 1, years[-1] + 1 + projection_years))\n",
        "    kt_future = model.predict(np.array(future_years).reshape(-1, 1))\n",
        "\n",
        "    log_mx_proj = pd.DataFrame({year: ax + bx * kt_val for year, kt_val in zip(future_years, kt_future)}, index=ages)\n",
        "    full_log_mx = pd.concat([log_mx, log_mx_proj], axis=1)\n",
        "    mx_proj = np.exp(full_log_mx)\n",
        "    return mx_proj\n",
        "\n",
        "def calcular_esperanza_vida_formato_mortalidad(df_mx, edades_interes):\n",
        "    resultados = {edad: [] for edad in edades_interes}\n",
        "    años = df_mx.columns\n",
        "\n",
        "    for year in años:\n",
        "        qx = 1 - np.exp(-df_mx[year])\n",
        "        lx = [1.0]\n",
        "        for q in qx.iloc[1:]:\n",
        "            lx.append(lx[-1] * (1 - q))\n",
        "        lx = np.array(lx)\n",
        "        for edad in edades_interes:\n",
        "            le = lx[edad:]\n",
        "            ex = np.sum(le) / le[0]\n",
        "            resultados[edad].append(ex)\n",
        "\n",
        "    df_ex = pd.DataFrame(resultados, index=años).T\n",
        "    df_ex.index.name = 'Edad'\n",
        "    df_ex.columns.name = 'Año'\n",
        "    return df_ex\n",
        "\n",
        "# Parámetros\n",
        "archivo = 'Tablas_Mortalidad_Proyectadas_Hombres.xlsx'  # Reemplaza con tu archivo real\n",
        "projection_years = 2040 - 2017\n",
        "edades_interes = [20, 30, 40, 50, 60, 70]\n",
        "\n",
        "# Leer hojas\n",
        "df_hombres = pd.read_excel(archivo, sheet_name='Hombres').set_index('edad')\n",
        "df_mujeres = pd.read_excel(archivo, sheet_name='Mujeres').set_index('edad')\n",
        "\n",
        "# Proyección de tasas mx\n",
        "proj_hombres = lee_carter_projection_short(df_hombres, projection_years)\n",
        "proj_mujeres = lee_carter_projection_short(df_mujeres, projection_years)\n",
        "\n",
        "# Esperanza de vida con formato compatible\n",
        "esperanza_hombres = calcular_esperanza_vida_formato_mortalidad(proj_hombres, edades_interes)\n",
        "esperanza_mujeres = calcular_esperanza_vida_formato_mortalidad(proj_mujeres, edades_interes)\n"
      ]
    }
  ]
}