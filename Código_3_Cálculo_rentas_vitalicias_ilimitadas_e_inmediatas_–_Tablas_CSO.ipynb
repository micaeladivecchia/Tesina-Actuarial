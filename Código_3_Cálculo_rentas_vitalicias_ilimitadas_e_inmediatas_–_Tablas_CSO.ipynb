{
  "nbformat": 4,
  "nbformat_minor": 0,
  "metadata": {
    "colab": {
      "provenance": []
    },
    "kernelspec": {
      "name": "python3",
      "display_name": "Python 3"
    },
    "language_info": {
      "name": "python"
    }
  },
  "cells": [
    {
      "cell_type": "code",
      "execution_count": null,
      "metadata": {
        "id": "NriKJoYffDbQ"
      },
      "outputs": [],
      "source": [
        "import pandas as pd\n",
        "import numpy as np\n",
        "\n",
        "# Cargar el archivo de Excel\n",
        "file_path = \"Tablas CSO.xlsx\"  # Asegurate de tenerlo en el mismo directorio\n",
        "xls = pd.ExcelFile(file_path)\n",
        "df_hombres = pd.read_excel(xls, sheet_name='hombres')\n",
        "df_mujeres = pd.read_excel(xls, sheet_name='mujeres')\n",
        "\n",
        "# Parámetros\n",
        "edades_interes = [20, 30, 40, 50, 60, 70]\n",
        "anios = [1980, 2001, 2017]\n",
        "i = 0.04  # tasa técnica\n",
        "v = 1 / (1 + i)\n",
        "capital = 10_000_000\n",
        "\n",
        "# Función para calcular renta vitalicia inmediata e ilimitada\n",
        "def calcular_renta_vitalicia(tabla, edades_interes, anios, capital):\n",
        "    resultados = {\"Edad\": edades_interes}\n",
        "    for anio in anios:\n",
        "        primas = []\n",
        "        for edad_inicial in edades_interes:\n",
        "            qx_edad = tabla.loc[tabla['edad'] >= edad_inicial, anio].dropna().values\n",
        "            if len(qx_edad) < 2:\n",
        "                primas.append(np.nan)\n",
        "                continue\n",
        "            lx = [1.0]\n",
        "            for q in qx_edad[:-1]:\n",
        "                lx.append(lx[-1] * (1 - q))\n",
        "            lx = np.array(lx)\n",
        "            Lx = (lx[:-1] + lx[1:]) / 2\n",
        "            v_pot = v ** np.arange(len(Lx))\n",
        "            a_x = np.sum(Lx * v_pot)\n",
        "            prima_pura = round(a_x * capital, 2)\n",
        "            primas.append(prima_pura)\n",
        "        resultados[anio] = primas\n",
        "    return pd.DataFrame(resultados)\n",
        "\n",
        "# Calcular primas para hombres y mujeres\n",
        "df_primas_hombres = calcular_renta_vitalicia(df_hombres, edades_interes, anios, capital)\n",
        "df_primas_mujeres = calcular_renta_vitalicia(df_mujeres, edades_interes, anios, capital)\n"
      ]
    }
  ]
}