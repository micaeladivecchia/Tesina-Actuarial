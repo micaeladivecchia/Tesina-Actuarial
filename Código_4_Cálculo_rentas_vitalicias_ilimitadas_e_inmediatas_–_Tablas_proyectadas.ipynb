{
  "nbformat": 4,
  "nbformat_minor": 0,
  "metadata": {
    "colab": {
      "provenance": []
    },
    "kernelspec": {
      "name": "python3",
      "display_name": "Python 3"
    },
    "language_info": {
      "name": "python"
    }
  },
  "cells": [
    {
      "cell_type": "code",
      "execution_count": null,
      "metadata": {
        "id": "xeAIde_BfaQU"
      },
      "outputs": [],
      "source": [
        "import pandas as pd\n",
        "import numpy as np\n",
        "\n",
        "# Parámetros\n",
        "capital = 10_000_000\n",
        "tasa_interes = 0.04\n",
        "v = 1 / (1 + tasa_interes)\n",
        "edades_objetivo = [20, 30, 40, 50, 60, 70]\n",
        "\n",
        "# Cargar archivo con proyecciones diferenciadas por sexo\n",
        "archivo = \"LeeCarter Tabla con Proyecciones y Esperanzas.xlsx\"  # ajustar nombre si es distinto\n",
        "tabla_hombres = pd.read_excel(archivo, sheet_name='Hombres', index_col=0)\n",
        "tabla_mujeres = pd.read_excel(archivo, sheet_name='Mujeres', index_col=0)\n",
        "\n",
        "# Asegurar que los índices sean edades como enteros\n",
        "tabla_hombres.index = tabla_hombres.index.astype(int)\n",
        "tabla_mujeres.index = tabla_mujeres.index.astype(int)\n",
        "\n",
        "# Función para cálculo de rentas vitalicias\n",
        "def calcular_rentas(tabla, edades, capital, v):\n",
        "    resultados = {\"Edad\": edades}\n",
        "    for anio in tabla.columns:\n",
        "        primas = []\n",
        "        for edad in edades:\n",
        "            if edad not in tabla.index:\n",
        "                primas.append(np.nan)\n",
        "                continue\n",
        "            qx = tabla.loc[edad:, anio].dropna().values\n",
        "            if len(qx) < 2:\n",
        "                primas.append(np.nan)\n",
        "                continue\n",
        "            lx = [1.0]\n",
        "            for q in qx[:-1]:\n",
        "                lx.append(lx[-1] * (1 - q))\n",
        "            lx = np.array(lx)\n",
        "            Lx = (lx[:-1] + lx[1:]) / 2\n",
        "            v_pot = v ** np.arange(len(Lx))\n",
        "            a_x = np.sum(Lx * v_pot)\n",
        "            prima = round(a_x * capital, 2)\n",
        "            primas.append(prima)\n",
        "        resultados[int(anio)] = primas\n",
        "    return pd.DataFrame(resultados)\n",
        "\n",
        "# Calcular resultados para hombres y mujeres\n",
        "df_rentas_hombres = calcular_rentas(tabla_hombres, edades_objetivo, capital, v)\n",
        "df_rentas_mujeres = calcular_rentas(tabla_mujeres, edades_objetivo, capital, v)\n"
      ]
    }
  ]
}